{
 "cells": [
  {
   "cell_type": "code",
   "execution_count": 163,
   "id": "b9f5ba8b",
   "metadata": {},
   "outputs": [],
   "source": [
    "import cv2 \n",
    "import numpy as np"
   ]
  },
  {
   "cell_type": "code",
   "execution_count": 183,
   "id": "4e278667",
   "metadata": {},
   "outputs": [],
   "source": [
    "def water_color(path, name, intesity, sharpness):\n",
    "    image = cv2.imread(path)\n",
    "#     img_resize = cv2.resize(image, None, fx=0.5, fy=0.5)\n",
    "    \n",
    "    # Removing impurities from image\n",
    "    image_clear = cv2.medianBlur(image, intesity)\n",
    "    image_clear = cv2.medianBlur(image_clear, intesity)\n",
    "    image_clear = cv2.medianBlur(image_clear, intesity)\n",
    "\n",
    "    image_clear = cv2.edgePreservingFilter(image_clear, sigma_s=10)\n",
    "    \n",
    "    # Bilitral image filtering\n",
    "\n",
    "    image_filter = cv2.bilateralFilter(image_clear, 3, 10, 5)\n",
    "\n",
    "    for i in range(2):\n",
    "        image_filter = cv2.bilateralFilter(image_clear, 3, 20, 10)\n",
    "\n",
    "    for i in range(3):\n",
    "        image_filter = cv2.bilateralFilter(image_clear, 5, 30, 10)\n",
    "\n",
    "    for i in range(3):\n",
    "        image_filter = cv2.bilateralFilter(image_clear, 5, 40, 10)\n",
    "        \n",
    "    gaussian_mask = cv2.GaussianBlur(image_filter, (9,9), 3)\n",
    "    image_sharp = cv2.addWeighted(image_filter, 1.5, gaussian_mask, -0.5, 0)\n",
    "    image_sharp = cv2.addWeighted(image_sharp, sharpness, gaussian_mask, -(sharpness-1), 10)\n",
    "    \n",
    "    cv2.imwrite(f'{name}.jpg', image_sharp)"
   ]
  },
  {
   "cell_type": "code",
   "execution_count": 185,
   "id": "f213c453",
   "metadata": {},
   "outputs": [],
   "source": [
    "water_color('bsr-focus-nature-hero.jpg','New_bsr_1', intesity=3, sharpness=2)"
   ]
  },
  {
   "cell_type": "code",
   "execution_count": null,
   "id": "02a9cfd9",
   "metadata": {},
   "outputs": [],
   "source": []
  }
 ],
 "metadata": {
  "kernelspec": {
   "display_name": "Python 3 (ipykernel)",
   "language": "python",
   "name": "python3"
  },
  "language_info": {
   "codemirror_mode": {
    "name": "ipython",
    "version": 3
   },
   "file_extension": ".py",
   "mimetype": "text/x-python",
   "name": "python",
   "nbconvert_exporter": "python",
   "pygments_lexer": "ipython3",
   "version": "3.10.9"
  }
 },
 "nbformat": 4,
 "nbformat_minor": 5
}

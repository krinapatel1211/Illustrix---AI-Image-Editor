{
 "cells": [
  {
   "cell_type": "code",
   "execution_count": 1,
   "metadata": {
    "id": "hpi0XGG8jRtn"
   },
   "outputs": [],
   "source": [
    "import cv2"
   ]
  },
  {
   "cell_type": "code",
   "execution_count": 2,
   "metadata": {
    "id": "vJ1O574fjgq9"
   },
   "outputs": [],
   "source": [
    "import matplotlib.pyplot as plt\n",
    "import matplotlib.image as mpimg\n",
    "\n",
    "# Load the image\n",
    "def imshow2(image, read=False):\n",
    "    if read:\n",
    "        image = mpimg.imread(image)\n",
    "\n",
    "    # Display the image\n",
    "    plt.imshow(image)\n",
    "    plt.axis('off')  # Remove the axes\n",
    "    plt.show()"
   ]
  },
  {
   "cell_type": "code",
   "execution_count": 3,
   "metadata": {},
   "outputs": [],
   "source": [
    "def image_sketching(img_path, path, name):\n",
    "    img = cv2.imread(img_path)\n",
    "    \n",
    "    # Converting Image to Gray\n",
    "    img_gray = cv2.cvtColor(img, cv2.COLOR_BGR2GRAY)\n",
    "    \n",
    "    # Applying BitWise Not \n",
    "    img_invert = cv2.bitwise_not(img_gray)\n",
    "    \n",
    "    # Smoothing the image \n",
    "    img_smoothing = cv2.GaussianBlur(img_invert, (21,21), sigmaX=0, sigmaY=0)\n",
    "    \n",
    "    def dodgeV2(x, y):\n",
    "      return cv2.divide(x, 255-y, scale=250)\n",
    "\n",
    "    final_img = dodgeV2(img_gray, img_smoothing)\n",
    "    \n",
    "    save_path = f'./{path}/{name}.png'\n",
    "    \n",
    "    cv2.imwrite(save_path, final_img)\n",
    "    \n",
    "    return save_path"
   ]
  },
  {
   "cell_type": "code",
   "execution_count": 4,
   "metadata": {},
   "outputs": [
    {
     "data": {
      "text/plain": [
       "'./Outputs/Result1.png'"
      ]
     },
     "execution_count": 4,
     "metadata": {},
     "output_type": "execute_result"
    }
   ],
   "source": [
    "image_sketching('Exp2.jpg', 'Outputs', 'Result1')"
   ]
  },
  {
   "cell_type": "code",
   "execution_count": 5,
   "metadata": {
    "id": "4z2gO3GxmNbf"
   },
   "outputs": [
    {
     "data": {
      "text/plain": [
       "'./Outputs/Result2.png'"
      ]
     },
     "execution_count": 5,
     "metadata": {},
     "output_type": "execute_result"
    }
   ],
   "source": [
    "image_sketching('Example.jpg', 'Outputs', 'Result2')"
   ]
  },
  {
   "cell_type": "code",
   "execution_count": null,
   "metadata": {},
   "outputs": [],
   "source": []
  }
 ],
 "metadata": {
  "colab": {
   "provenance": []
  },
  "kernelspec": {
   "display_name": "Python 3 (ipykernel)",
   "language": "python",
   "name": "python3"
  },
  "language_info": {
   "codemirror_mode": {
    "name": "ipython",
    "version": 3
   },
   "file_extension": ".py",
   "mimetype": "text/x-python",
   "name": "python",
   "nbconvert_exporter": "python",
   "pygments_lexer": "ipython3",
   "version": "3.10.9"
  }
 },
 "nbformat": 4,
 "nbformat_minor": 1
}
